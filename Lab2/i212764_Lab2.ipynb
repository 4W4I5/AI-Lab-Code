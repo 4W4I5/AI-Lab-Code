{
 "cells": [
  {
   "cell_type": "markdown",
   "metadata": {},
   "source": [
    "# List"
   ]
  },
  {
   "cell_type": "code",
   "execution_count": 6,
   "metadata": {},
   "outputs": [
    {
     "name": "stdout",
     "output_type": "stream",
     "text": [
      "[1, 2, 3, 4, 'a']\n",
      "1\n",
      "2\n",
      "3\n",
      "4\n",
      "['a', 'b', 'c']\n",
      "[0, 2, 4, 6, 8, 10, 12, 14, 16, 18, 20, 22, 24, 26, 28, 30, 32, 34, 36, 38, 40, 42, 44, 46, 48, 50, 52, 54, 56, 58, 60, 62, 64, 66, 68, 70, 72, 74, 76, 78, 80, 82, 84, 86, 88, 90, 92, 94, 96, 98]\n"
     ]
    }
   ],
   "source": [
    "# Create a list with varying types of data\n",
    "my_list = [1,2,3,4,'a']\n",
    "print(my_list)\n"
   ]
  },
  {
   "cell_type": "markdown",
   "metadata": {},
   "source": [
    "# List with list inside"
   ]
  },
  {
   "cell_type": "code",
   "execution_count": null,
   "metadata": {},
   "outputs": [],
   "source": [
    "\n",
    "# Create a list with a list inside\n",
    "my_list = [1,2,3,4,['a','b','c']]\n",
    "for i in range(len(my_list)):\n",
    "    print(my_list[i])\n"
   ]
  },
  {
   "cell_type": "markdown",
   "metadata": {},
   "source": [
    "# List with the Range Function"
   ]
  },
  {
   "cell_type": "code",
   "execution_count": 3,
   "metadata": {},
   "outputs": [
    {
     "name": "stdout",
     "output_type": "stream",
     "text": [
      "[0, 2, 4, 6, 8, 10, 12, 14, 16, 18, 20, 22, 24, 26, 28, 30, 32, 34, 36, 38, 40, 42, 44, 46, 48, 50, 52, 54, 56, 58, 60, 62, 64, 66, 68, 70, 72, 74, 76, 78, 80, 82, 84, 86, 88, 90, 92, 94, 96, 98]\n",
      "[-100, -90, -80, -70, -60, -50, -40, -30, -20, -10, 0, 10, 20, 30, 40, 50, 60, 70, 80, 90]\n"
     ]
    }
   ],
   "source": [
    "\n",
    "# Create a list using the range function\n",
    "my_list = list(range(0,100,2))\n",
    "print(my_list)\n",
    "\n",
    "list1 = list(range(-100,100,10))\n",
    "print(list1)"
   ]
  },
  {
   "cell_type": "markdown",
   "metadata": {},
   "source": [
    "# Typecasting string to list"
   ]
  },
  {
   "cell_type": "code",
   "execution_count": 14,
   "metadata": {},
   "outputs": [
    {
     "name": "stdout",
     "output_type": "stream",
     "text": [
      "Original String: ['H', 'e', 'l', 'l', 'o', ' ', 'W', 'o', 'r', 'l', 'd']\n",
      "Ascending order Sorted String: [' ', 'H', 'W', 'd', 'e', 'l', 'l', 'l', 'o', 'o', 'r']\n",
      "Descending order Sorted string: ['r', 'o', 'o', 'l', 'l', 'l', 'e', 'd', 'W', 'H', ' ']\n"
     ]
    }
   ],
   "source": [
    "s = \"Hello World\"\n",
    "\n",
    "\n",
    "list2 = list(s)\n",
    "print(f\"Original String: {list2}\")\n",
    "list2.sort()\n",
    "print(f\"Ascending order Sorted String: {list2}\")\n",
    "list2 = list(s)\n",
    "list2.sort(reverse=True)\n",
    "print(f\"Descending order Sorted string: {list2}\")\n"
   ]
  },
  {
   "cell_type": "markdown",
   "metadata": {},
   "source": [
    "# Appending to a list"
   ]
  },
  {
   "cell_type": "code",
   "execution_count": 40,
   "metadata": {},
   "outputs": [
    {
     "name": "stdout",
     "output_type": "stream",
     "text": [
      "Charecters appended to a list: ['a', 'w', 'a', 'i', 's']\n",
      "Charecter[2] modified in list: ['a', 'w', '4', 'i', 's']\n",
      "Charecter[2] inserted in list: ['a', 'w', '3', '4', 'i', 's']\n",
      "list[0:4] has replaced 4 char in list: ['x', 'y', '1', '2', 'i', 's']\n"
     ]
    }
   ],
   "source": [
    "appendedList=[]\n",
    "appendedList.append(\"a\")\n",
    "appendedList.append(\"w\")\n",
    "appendedList.append(\"a\")\n",
    "appendedList.append(\"i\")\n",
    "appendedList.append(\"s\")\n",
    "print(f\"Charecters appended to a list: {appendedList}\")\n",
    "\n",
    "appendedList[2] = \"4\"\n",
    "print(f\"Charecter[2] modified in list: {appendedList}\")\n",
    "\n",
    "appendedList.insert(2,\"3\")\n",
    "print(f\"Charecter[2] inserted in list: {appendedList}\")\n",
    "\n",
    "appendedList[0:4] = ['x','y', '1', '2']\n",
    "print(f\"list[0:4] has replaced 4 char in list: {appendedList}\")"
   ]
  },
  {
   "cell_type": "markdown",
   "metadata": {},
   "source": [
    "# Remove an element using the element function"
   ]
  },
  {
   "cell_type": "code",
   "execution_count": 42,
   "metadata": {},
   "outputs": [
    {
     "name": "stdout",
     "output_type": "stream",
     "text": [
      "['e', 'l', 'l', 'o', ' ', 'W', 'o', 'r', 'l', 'd']\n"
     ]
    }
   ],
   "source": [
    "# remove the first element using remove()\n",
    "list3 = list(\"Hello World\")\n",
    "list3.remove(\"H\")\n",
    "print(list3)"
   ]
  },
  {
   "cell_type": "markdown",
   "metadata": {},
   "source": [
    "# Tuples"
   ]
  },
  {
   "cell_type": "code",
   "execution_count": 47,
   "metadata": {},
   "outputs": [
    {
     "name": "stdout",
     "output_type": "stream",
     "text": [
      "(1, 2, 3)\n",
      "<class 'tuple'>\n",
      "1\n",
      "2\n",
      "3\n"
     ]
    }
   ],
   "source": [
    "l = 1,2,3\n",
    "\n",
    "# Cannot modify a tuple\n",
    "# l[0] = 6\n",
    "\n",
    "print(l)\n",
    "print(type(l))\n",
    "\n",
    "\n",
    "# Destructure a tuple\n",
    "a,b,c = l\n",
    "\n",
    "print(a)\n",
    "print(b)\n",
    "print(c)\n"
   ]
  },
  {
   "cell_type": "markdown",
   "metadata": {},
   "source": [
    "# Dictionaries"
   ]
  },
  {
   "cell_type": "code",
   "execution_count": 58,
   "metadata": {},
   "outputs": [
    {
     "name": "stdout",
     "output_type": "stream",
     "text": [
      "{'Ali': [3.5, 56, 'asdf'], 'Ahmed': [3.6, 57, 'asdf'], 'Asad': [3.7, 58, 'asdf']}\n",
      "Ali's entry: [3.5, 56, 'asdf']\n",
      "Ahmed's entry: [3.6, 57, 'asdf']\n",
      "Asad's entry: [3.7, 58, 'asdf']\n",
      "Ali's entry after replace: 3.8\n",
      "Ali's entry after append: [3.5, 56, 'asdf', 3.5, 56, 'asdf']\n",
      "Ali's entry after replacing 4th index: [3.5, 56, 'asdf', 'asdasasdasasasda', 56, 'asdf']\n"
     ]
    }
   ],
   "source": [
    "d = {\"Ali\":[3.5,56,\"asdf\"],\n",
    "     \"Ahmed\":[3.6,57,\"asdf\"],\n",
    "     \"Asad\":[3.7,58,\"asdf\"],\n",
    "}\n",
    "\n",
    "print(d)\n",
    "\n",
    "print(f\"Ali's entry: {d['Ali']}\")\n",
    "print(f\"Ahmed's entry: {d['Ahmed']}\")\n",
    "print(f\"Asad's entry: {d['Asad']}\")\n",
    "backupAli = d[\"Ali\"]\n",
    "d[\"Ali\"] = 3.8\n",
    "\n",
    "print(f\"Ali's entry after replace: {d['Ali']}\")\n",
    "\n",
    "d[\"Ali\"] = backupAli + backupAli\n",
    "print(f\"Ali's entry after append: {d['Ali']}\")\n",
    "\n",
    "d[\"Ali\"][3] = \"asdasasdasasasda\"\n",
    "print(f\"Ali's entry after replacing 4th index: {d['Ali']}\") \n"
   ]
  },
  {
   "cell_type": "markdown",
   "metadata": {},
   "source": [
    "# Conditional Statements"
   ]
  },
  {
   "cell_type": "code",
   "execution_count": 67,
   "metadata": {},
   "outputs": [
    {
     "name": "stdout",
     "output_type": "stream",
     "text": [
      "x= 1\n",
      "y= 2\n",
      "\n",
      "x == x\n",
      "x is equal to x\n",
      "\n",
      "x == x || x != y\n",
      "x is not equal to y\n",
      "\n",
      "x == x || x != y || x == y\n",
      "x is equal to x\n",
      "\n",
      "x == x && y == y\n",
      "x is equal to x and y is equal to y\n",
      "\n"
     ]
    }
   ],
   "source": [
    "x = 1\n",
    "y = 2\n",
    "\n",
    "print(f\"x= {x}\")\n",
    "print(f\"y= {y}\\n\")\n",
    "\n",
    "print(\"x == x\")\n",
    "if x == x:\n",
    "    print(\"x is equal to x\\n\")\n",
    "\n",
    "print(\"x == x || x != y\")\n",
    "\n",
    "\n",
    "if x == y:\n",
    "    print(\"x is equal to y\\n\")\n",
    "else:\n",
    "    print(\"x is not equal to y\\n\")\n",
    "\n",
    "print(\"x == x || x != y || x == y\")\n",
    "\n",
    "\n",
    "if x == y:\n",
    "    print(\"x is equal to y\\n\")\n",
    "elif x == x:\n",
    "    print(\"x is equal to x\\n\")\n",
    "else:\n",
    "    print(\"x is not equal to y\\n\")\n",
    "\n",
    "print(\"x == x && y == y\")\n",
    "\n",
    "\n",
    "if x == x:\n",
    "    if y == y:\n",
    "        print(\"x is equal to x and y is equal to y\\n\")\n",
    "\n",
    "\n",
    "        \n",
    "\n",
    "        "
   ]
  },
  {
   "cell_type": "markdown",
   "metadata": {},
   "source": [
    "# For Loops"
   ]
  },
  {
   "cell_type": "code",
   "execution_count": 90,
   "metadata": {},
   "outputs": [
    {
     "name": "stdout",
     "output_type": "stream",
     "text": [
      "Manual list creation\n",
      "1\n",
      "2\n",
      "3\n",
      "\n",
      "List creation using range()\n",
      "1\n",
      "2\n",
      "3\n",
      "4\n",
      "5\n",
      "6\n",
      "7\n",
      "8\n",
      "9\n",
      "\n",
      "List iteration using in keyword\n",
      "a\n",
      "b\n",
      "c\n",
      "d\n",
      "While loop demo\n",
      "0\n",
      "1\n",
      "2\n",
      "3\n",
      "4\n",
      "5\n",
      "6\n",
      "7\n",
      "8\n",
      "9\n"
     ]
    }
   ],
   "source": [
    "print(f\"Manual list creation\")\n",
    "for x in [1,2,3]:\n",
    "    print(x)\n",
    "\n",
    "print()\n",
    "print(f\"List creation using range()\")\n",
    "for x in range(1,10):\n",
    "    print(x)\n",
    "\n",
    "print()\n",
    "\n",
    "print(f\"List iteration using in keyword\")\n",
    "l = [\"a\",\"b\",\"c\",\"d\"]\n",
    "for x in l:\n",
    "    print(x)\n",
    "\n",
    "\n",
    "print(f\"While loop demo\")\n",
    "x = 0\n",
    "while x < 10:\n",
    "    print(x)\n",
    "    x += 1\n",
    "    \n",
    "\n"
   ]
  },
  {
   "cell_type": "markdown",
   "metadata": {},
   "source": [
    "# Functions"
   ]
  },
  {
   "cell_type": "code",
   "execution_count": 98,
   "metadata": {},
   "outputs": [
    {
     "name": "stdout",
     "output_type": "stream",
     "text": [
      "Hello World\n",
      "Hello World\n",
      "N/A\n",
      "3\n",
      "string passed to func4 is Hello world and its length is: 11\n",
      "Help on function func4 in module __main__:\n",
      "\n",
      "func4(x)\n",
      "    This function returns the length of the string passed to it\n",
      "\n"
     ]
    }
   ],
   "source": [
    "def func():\n",
    "    print(\"Hello World\")\n",
    "\n",
    "func()\n",
    "\n",
    "def func2(x =\"N/A\"):\n",
    "    print(x)\n",
    "func2(\"Hello World\")\n",
    "func2()\n",
    "\n",
    "\n",
    "def func3(x,y):\n",
    "    return(x+y)\n",
    "\n",
    "print(func3(1,2))\n",
    "\n",
    "\n",
    "def func4(x):\n",
    "    \"\"\"This function returns the length of the string passed to it\"\"\"\n",
    "    return len(x)\n",
    "\n",
    "print(f\"string passed to func4 is Hello world and its length is: {func4('Hello World')}\")\n",
    "help(func4)\n",
    "\n"
   ]
  },
  {
   "cell_type": "markdown",
   "metadata": {},
   "source": [
    "# Classes"
   ]
  },
  {
   "cell_type": "code",
   "execution_count": 1,
   "metadata": {},
   "outputs": [
    {
     "name": "stdout",
     "output_type": "stream",
     "text": [
      "(1,2)\n",
      "(2,3)\n"
     ]
    }
   ],
   "source": [
    "# Create a class called point to represent a point in 2d space\n",
    "class Point:\n",
    "    def __init__(self,x,y):\n",
    "        self.x = x\n",
    "        self.y = y\n",
    "\n",
    "    def translate(self,x,y):\n",
    "        self.x += x\n",
    "        self.y += y\n",
    "\n",
    "    def __str__(self):\n",
    "        return f\"({self.x},{self.y})\"\n",
    "    \n",
    "    \n",
    "p = Point(1,2)\n",
    "print(p)\n",
    "p.translate(1,1)\n",
    "print(p)    "
   ]
  },
  {
   "cell_type": "markdown",
   "metadata": {},
   "source": [
    "# Lab 2 - i212764 Awais Shahid"
   ]
  },
  {
   "cell_type": "markdown",
   "metadata": {},
   "source": [
    "## Task 1a"
   ]
  },
  {
   "cell_type": "code",
   "execution_count": 16,
   "metadata": {},
   "outputs": [
    {
     "name": "stdout",
     "output_type": "stream",
     "text": [
      "Circumference of Circle with radius 5.0 is = 31.415000000000003\n"
     ]
    }
   ],
   "source": [
    "# Find the circumference of a circle\n",
    "\n",
    "PI = 3.1415\n",
    "\n",
    "def circum(x = 1):\n",
    "    return(2*PI*x)\n",
    "\n",
    "\n",
    "x = float(input(\"Enter a value for Radius X: \"))\n",
    "print(f\"Circumference of Circle with radius {x} is = {circum(x)}\")"
   ]
  },
  {
   "cell_type": "markdown",
   "metadata": {},
   "source": [
    "## Task 1b"
   ]
  },
  {
   "cell_type": "code",
   "execution_count": 17,
   "metadata": {},
   "outputs": [
    {
     "name": "stdout",
     "output_type": "stream",
     "text": [
      "Percentage of attendance is: 0.45\n",
      "Student is not allowed\n"
     ]
    }
   ],
   "source": [
    "def isAllowed(attendedClasses,totalClasses):\n",
    "    percentage = attendedClasses/totalClasses\n",
    "    print(f\"Percentage of attendance is: {percentage}\")\n",
    "    return (percentage > .85)\n",
    "\n",
    "x =int(input(\"Enter the number of classes attended: \"))\n",
    "y =int(input(\"Enter the total number of classes: \"))\n",
    "\n",
    "if(isAllowed(x,y)):\n",
    "    print(f\"Student is allowed\")\n",
    "else:\n",
    "    print(f\"Student is not allowed\")\n"
   ]
  },
  {
   "cell_type": "markdown",
   "metadata": {},
   "source": [
    "## Task 2"
   ]
  },
  {
   "cell_type": "code",
   "execution_count": 61,
   "metadata": {},
   "outputs": [
    {
     "name": "stdout",
     "output_type": "stream",
     "text": [
      "areas values in the areas list: [112.0, 'hall', 113.5, 'bath', 189.5, 'kit', 789.0, 'liv', 230.0]\n",
      "float values in the float list: [113.5, 189.5, 789.0, 230.0]\n",
      "string values in the string list: ['hall', 'bath', 'kit', 'liv']\n",
      "Area of bed is 112.0\n"
     ]
    }
   ],
   "source": [
    "# Take a list and remove all values except float\n",
    "areas = [\"bed\", 112.0, \"hall\", 113.5, \"bath\", 189.5, \"kit\", 789.0, \"liv\", 230.0]\n",
    "\n",
    "float_area = areas.copy()\n",
    "str_area = areas.copy()\n",
    "\n",
    "for x in range(len(areas)):\n",
    "    if(not isinstance(areas[x], float)):\n",
    "        float_area.remove(areas[x])\n",
    "    elif(not isinstance(areas[x], str)):\n",
    "        str_area.remove(areas[x])\n",
    "\n",
    "\n",
    "print(f\"areas values in the areas list: {areas[1::1]}\")\n",
    "print(f\"float values in the float list: {float_area[1::1]}\")\n",
    "print(f\"string values in the string list: {str_area[1::1]}\")\n",
    "print(f\"Area of {str_area[0]} is {float_area[0]}\")\n"
   ]
  },
  {
   "cell_type": "markdown",
   "metadata": {},
   "source": [
    "## Task 3"
   ]
  },
  {
   "cell_type": "code",
   "execution_count": 75,
   "metadata": {},
   "outputs": [
    {
     "name": "stdout",
     "output_type": "stream",
     "text": [
      "Non Flattened list\n",
      "['bed', 112.0, 'hall', 113.5, 'bath', 189.5, 'kit', 789.0, 'liv', 230.0, 'pool', [112.7, 117.9], 'grg', [112.0]]\n",
      "\n",
      "Flattened list\n",
      "['bed', 112.0, 'hall', 113.5, 'bath', 189.5, 'kit', 789.0, 'liv', 230.0, 'pool', 112.7, 117.9, 'grg', 112.0]\n"
     ]
    }
   ],
   "source": [
    "pool_area = [\"pool\", [112.7, 117.9]]\n",
    "garage = [\"grg\", [112.0]]\n",
    "\n",
    "full_list = areas + pool_area + garage\n",
    "print(\"Non Flattened list\")\n",
    "print(full_list)\n",
    "print()\n",
    "\n",
    "result = []\n",
    "for x in full_list:\n",
    "    if(isinstance(x, list)):\n",
    "        for y in x:\n",
    "            result.append(y)\n",
    "    else:\n",
    "        result.append(x)\n",
    "\n",
    "\n",
    "print(\"Flattened list\")\n",
    "print(result)"
   ]
  },
  {
   "cell_type": "markdown",
   "metadata": {},
   "source": [
    "## Task 4"
   ]
  },
  {
   "cell_type": "code",
   "execution_count": 86,
   "metadata": {},
   "outputs": [
    {
     "name": "stdout",
     "output_type": "stream",
     "text": [
      "Student ID: 101, Age: 20\n",
      "Student ID: 102, Age: 21\n",
      "Student ID: 103, Age: 19\n"
     ]
    }
   ],
   "source": [
    "\n",
    "def printAges(students):\n",
    "    for x in students:\n",
    "        print(f\"Student ID: {x}, Age: {students[x]['age']}\")\n",
    "\n",
    "students = {\n",
    "101: {\"name\": \"Alice\", \"age\": 20, \"gpa\": 3.5},\n",
    "102: {\"name\": \"Bob\", \"age\": 21, \"gpa\": 3.8},\n",
    "103: {\"name\": \"Charlie\", \"age\": 19, \"gpa\": 3.2}\n",
    "}\n",
    "\n",
    "printAges(students)\n"
   ]
  },
  {
   "cell_type": "markdown",
   "metadata": {},
   "source": [
    "## Task 5"
   ]
  },
  {
   "cell_type": "code",
   "execution_count": 89,
   "metadata": {},
   "outputs": [
    {
     "name": "stdout",
     "output_type": "stream",
     "text": [
      "Random list: [57, 45, 42, 38, 38, 83, 20, 5, 72, 32]\n",
      "Sorted list: [5, 20, 32, 38, 38, 42, 45, 57, 72, 83]\n",
      "Tuple: (5, 20, 32, 38, 38, 42, 45, 57, 72, 83)\n"
     ]
    }
   ],
   "source": [
    "import random\n",
    "\n",
    "randomList = []\n",
    "for x in range(10):\n",
    "    randomList.append(random.randint(0,100))\n",
    "\n",
    "print(f\"Random list: {randomList}\")\n",
    "\n",
    "for x in range(len(randomList)):\n",
    "    for y in range(len(randomList)):\n",
    "        if(randomList[x] < randomList[y]):\n",
    "            temp = randomList[x]\n",
    "            randomList[x] = randomList[y]\n",
    "            randomList[y] = temp\n",
    "\n",
    "print(f\"Sorted list: {randomList}\")\n",
    "\n",
    "randomTuple = tuple(randomList)\n",
    "print(f\"Tuple: {randomTuple}\")\n",
    "\n",
    "\n"
   ]
  },
  {
   "cell_type": "markdown",
   "metadata": {},
   "source": [
    "## Task 6"
   ]
  },
  {
   "cell_type": "code",
   "execution_count": 97,
   "metadata": {},
   "outputs": [
    {
     "name": "stdout",
     "output_type": "stream",
     "text": [
      "Warning: This campus is overpopulated\n",
      "Note: This campus is not overpopulated\n",
      "Name: Main Campus, Location: Lahore, Student Count: 10000, Faculty Count: 200\n",
      "Name: City Campus, Location: Lahore, Student Count: 200, Faculty Count: 100\n"
     ]
    }
   ],
   "source": [
    "# Create a class named Campus\n",
    "# Attributes => name, location, studentCount & facultyCount\n",
    "\n",
    "def warning(students, faculty):\n",
    "    if(students/faculty > 5):\n",
    "        print(\"Warning: This campus is overpopulated\")\n",
    "    else:\n",
    "        print(\"Note: This campus is not overpopulated\")\n",
    "\n",
    "class Campus:\n",
    "     \n",
    "    def __init__(self, name, location, studentCount, facultyCount):\n",
    "        self.name = name\n",
    "        self.location = location\n",
    "        self.studentCount = studentCount\n",
    "        self.facultyCount = facultyCount\n",
    "\n",
    "    def __str__(self):\n",
    "        return(f\"Name: {self.name}, Location: {self.location}, Student Count: {self.studentCount}, Faculty Count: {self.facultyCount}\")\n",
    "    \n",
    "        \n",
    "\n",
    "campus1 = Campus(name=\"Main Campus\", location=\"Lahore\", studentCount=10000, facultyCount=200)\n",
    "campus2 = Campus(name=\"City Campus\", location=\"Lahore\", studentCount=200, facultyCount=100)\n",
    "\n",
    "warning(campus1.studentCount, campus1.facultyCount)\n",
    "warning(campus2.studentCount, campus2.facultyCount)\n",
    "\n",
    "print(campus1)\n",
    "print(campus2)\n",
    "\n",
    "\n"
   ]
  }
 ],
 "metadata": {
  "kernelspec": {
   "display_name": "Python 3",
   "language": "python",
   "name": "python3"
  },
  "language_info": {
   "codemirror_mode": {
    "name": "ipython",
    "version": 3
   },
   "file_extension": ".py",
   "mimetype": "text/x-python",
   "name": "python",
   "nbconvert_exporter": "python",
   "pygments_lexer": "ipython3",
   "version": "3.12.1"
  }
 },
 "nbformat": 4,
 "nbformat_minor": 2
}
