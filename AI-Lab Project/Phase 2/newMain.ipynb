{
 "cells": [
  {
   "cell_type": "code",
   "execution_count": null,
   "metadata": {},
   "outputs": [],
   "source": [
    "# Use this code snippet to suppress all 'librosa' related UserWarnings\n",
    "import warnings\n",
    "warnings.filterwarnings(\"ignore\")\n",
    "\n",
    "# Import librosa\n",
    "import librosa\n",
    "\n",
    "# Loads mp3 file with a specific sampling rate, here 16kHz\n",
    "y, sr = librosa.load(\"c4_sample-1.mp3\", sr=16_000)\n",
    "\n",
    "# Plot the signal stored in 'y'\n",
    "from matplotlib import pyplot as plt\n",
    "import librosa.display\n",
    "\n",
    "plt.figure(figsize=(12, 3))\n",
    "plt.title(\"Audio signal as waveform\")\n",
    "librosa.display.waveplot(y, sr=sr);"
   ]
  },
  {
   "cell_type": "code",
   "execution_count": null,
   "metadata": {},
   "outputs": [],
   "source": []
  }
 ],
 "metadata": {
  "language_info": {
   "name": "python"
  }
 },
 "nbformat": 4,
 "nbformat_minor": 2
}
